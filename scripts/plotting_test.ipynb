{
 "cells": [
  {
   "cell_type": "code",
   "execution_count": null,
   "metadata": {},
   "outputs": [],
   "source": [
    "import matplotlib.pyplot as plt\n",
    "import torch\n",
    "\n",
    "import sys\n",
    "sys.path.append(\"../\")\n",
    "\n",
    "from prototype.user_profile_host import UserProfileHost\n",
    "from prototype.constants import RecommendationType"
   ]
  },
  {
   "cell_type": "code",
   "execution_count": null,
   "metadata": {},
   "outputs": [],
   "source": [
    "# Fit TSNE Representation Module from sklearn\n",
    "toy_uph = UserProfileHost(original_prompt='test', recommendation_type=RecommendationType.RANDOM)\n",
    "\n",
    "# Run a few iterations to gather some points\n",
    "for i in range(20):\n",
    "    embeds, latents = toy_uph.generate_recommendations(num_recommendations=5)\n",
    "    scores = torch.rand(size=(5,))\n",
    "    toy_uph.fit_user_profile(preferences=scores)\n",
    "\n",
    "low_d_user_profile, low_d_embeddings, preferences = toy_uph.plotting_utils(algorithm='tsne')\n",
    "\n",
    "# PLot Embeddings with respective scores\n",
    "plt.figure(figsize=(10,10))\n",
    "plt.scatter(low_d_embeddings[:, 0], low_d_embeddings[:, 1], alpha=0.7)\n",
    "plt.show()"
   ]
  }
 ],
 "metadata": {
  "kernelspec": {
   "display_name": "mmll",
   "language": "python",
   "name": "python3"
  },
  "language_info": {
   "name": "python",
   "version": "3.11.5"
  }
 },
 "nbformat": 4,
 "nbformat_minor": 2
}
