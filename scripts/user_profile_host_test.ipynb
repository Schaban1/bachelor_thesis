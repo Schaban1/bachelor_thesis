{
 "cells": [
  {
   "cell_type": "code",
   "execution_count": 1,
   "metadata": {},
   "outputs": [
    {
     "name": "stderr",
     "output_type": "stream",
     "text": [
      "/home/phahn/venvs/mmll/lib/python3.11/site-packages/tqdm/auto.py:21: TqdmWarning: IProgress not found. Please update jupyter and ipywidgets. See https://ipywidgets.readthedocs.io/en/stable/user_install.html\n",
      "  from .autonotebook import tqdm as notebook_tqdm\n"
     ]
    }
   ],
   "source": [
    "import torch\n",
    "\n",
    "import sys\n",
    "sys.path.append(\"../\")\n",
    "\n",
    "from prototype.user_profile_host import UserProfileHost\n",
    "from prototype.constants import RecommendationType"
   ]
  },
  {
   "cell_type": "code",
   "execution_count": 5,
   "metadata": {},
   "outputs": [
    {
     "name": "stderr",
     "output_type": "stream",
     "text": [
      "Loading pipeline components...: 100%|██████████| 7/7 [00:00<00:00, 13.66it/s]\n"
     ]
    },
    {
     "name": "stdout",
     "output_type": "stream",
     "text": [
      "Test\n",
      "Test\n",
      "Test\n"
     ]
    }
   ],
   "source": [
    "# Create a UserProfileHost()\n",
    "user_profile_host = UserProfileHost(\n",
    "    original_prompt='A cute cat',\n",
    "    add_ons=None,\n",
    "    cache_dir='../cache/',\n",
    "    recommendation_type = RecommendationType.EMA_DIRICHLET,\n",
    ")\n",
    "\n",
    "# Define some specifications\n",
    "num_recommendations = 2\n",
    "beta = 20\n",
    "\n",
    "# Play through an iteration loop\n",
    "embeddings = user_profile_host.generate_recommendations(num_recommendations=num_recommendations)\n",
    "preferences = torch.randint(0, 10, size=(num_recommendations,1)) / 10\n",
    "for i in range(3):\n",
    "    # Reduce Beta\n",
    "    beta -= 1\n",
    "    # Update the user profile\n",
    "    user_profile_host.fit_user_profile(preferences=preferences)\n",
    "    # Generate new Recommendations\n",
    "    embeddings = user_profile_host.generate_recommendations(num_recommendations=num_recommendations)\n",
    "    # TODO: This would be where webui and generator generate the images and show them to the user to get preferences.\n",
    "    preferences = torch.randint(0, 10, size=(num_recommendations,1)) / 10 # placeholder\n",
    "    print(\"Test\")"
   ]
  },
  {
   "cell_type": "code",
   "execution_count": null,
   "metadata": {},
   "outputs": [],
   "source": []
  }
 ],
 "metadata": {
  "kernelspec": {
   "display_name": "mmll",
   "language": "python",
   "name": "python3"
  },
  "language_info": {
   "codemirror_mode": {
    "name": "ipython",
    "version": 3
   },
   "file_extension": ".py",
   "mimetype": "text/x-python",
   "name": "python",
   "nbconvert_exporter": "python",
   "pygments_lexer": "ipython3",
   "version": "3.11.5"
  }
 },
 "nbformat": 4,
 "nbformat_minor": 2
}
