{
 "cells": [
  {
   "cell_type": "code",
   "execution_count": 1,
   "metadata": {},
   "outputs": [
    {
     "name": "stderr",
     "output_type": "stream",
     "text": [
      "/home/phahn/venvs/mmll/lib/python3.11/site-packages/tqdm/auto.py:21: TqdmWarning: IProgress not found. Please update jupyter and ipywidgets. See https://ipywidgets.readthedocs.io/en/stable/user_install.html\n",
      "  from .autonotebook import tqdm as notebook_tqdm\n"
     ]
    }
   ],
   "source": [
    "import torch\n",
    "\n",
    "import sys\n",
    "sys.path.append(\"../\")\n",
    "\n",
    "from prototype.user_profile_host import UserProfileHost"
   ]
  },
  {
   "cell_type": "code",
   "execution_count": 3,
   "metadata": {},
   "outputs": [
    {
     "name": "stderr",
     "output_type": "stream",
     "text": [
      "Loading pipeline components...: 100%|██████████| 7/7 [00:00<00:00, 13.68it/s]\n"
     ]
    },
    {
     "name": "stdout",
     "output_type": "stream",
     "text": [
      "Use axes with context:  True\n",
      "charcoal drawing of A cute cat in a fantasy forest with a faint, misty light, in high definition\n",
      "realistic portrait of A cute cat overgrown by plants with a glowing halo, sharp focus\n",
      "abstract art of A cute cat in the heart of a tornado with intense contrast, hyper-realistic\n",
      "3D render of A cute cat surrounded by flowing rivers with fiery backlighting, in 4K resolution\n",
      "fantasy art of A cute cat covered in vines with a peaceful, tranquil mood, with pristine quality\n",
      "concept art of A cute cat on a floating island in a sun-drenched scene, intricate details\n",
      "digital painting of A cute cat floating in a bubble in a surreal ambiance, in HD\n",
      "vintage photograph of A cute cat surrounded by flames in a golden hour glow, award-winning quality\n",
      "street photography of A cute cat with a glowing moon in the background in a dark, brooding tone, fine details\n",
      "oil painting of A cute cat in deep space with a center-focus, super realistic\n",
      "sketch of A cute cat on a rainy day in a cold, eerie atmosphere, 4K resolution\n",
      "pastel drawing of A cute cat in a magical realm with swirling clouds, photorealistic\n",
      "acrylic painting of A cute cat in a futuristic city with moody lighting, cinematic quality\n"
     ]
    },
    {
     "ename": "TypeError",
     "evalue": "UserProfileHost.generate_recommendations() got an unexpected keyword argument 'beta'",
     "output_type": "error",
     "traceback": [
      "\u001b[0;31m---------------------------------------------------------------------------\u001b[0m",
      "\u001b[0;31mTypeError\u001b[0m                                 Traceback (most recent call last)",
      "Cell \u001b[0;32mIn[3], line 14\u001b[0m\n\u001b[1;32m     11\u001b[0m beta \u001b[38;5;241m=\u001b[39m \u001b[38;5;241m20\u001b[39m\n\u001b[1;32m     13\u001b[0m \u001b[38;5;66;03m# Play through an iteration loop\u001b[39;00m\n\u001b[0;32m---> 14\u001b[0m embeddings \u001b[38;5;241m=\u001b[39m \u001b[43muser_profile_host\u001b[49m\u001b[38;5;241;43m.\u001b[39;49m\u001b[43mgenerate_recommendations\u001b[49m\u001b[43m(\u001b[49m\u001b[43mnum_recommendations\u001b[49m\u001b[38;5;241;43m=\u001b[39;49m\u001b[43mnum_recommendations\u001b[49m\u001b[43m,\u001b[49m\u001b[43m \u001b[49m\u001b[43mbeta\u001b[49m\u001b[38;5;241;43m=\u001b[39;49m\u001b[43mbeta\u001b[49m\u001b[43m)\u001b[49m\n\u001b[1;32m     15\u001b[0m preferences \u001b[38;5;241m=\u001b[39m torch\u001b[38;5;241m.\u001b[39mrandint(\u001b[38;5;241m0\u001b[39m, \u001b[38;5;241m100\u001b[39m, size\u001b[38;5;241m=\u001b[39m(num_recommendations,\u001b[38;5;241m1\u001b[39m)) \u001b[38;5;241m/\u001b[39m \u001b[38;5;241m10\u001b[39m\n\u001b[1;32m     16\u001b[0m \u001b[38;5;28;01mfor\u001b[39;00m i \u001b[38;5;129;01min\u001b[39;00m \u001b[38;5;28mrange\u001b[39m(\u001b[38;5;241m20\u001b[39m):\n\u001b[1;32m     17\u001b[0m     \u001b[38;5;66;03m# Reduce Beta\u001b[39;00m\n",
      "\u001b[0;31mTypeError\u001b[0m: UserProfileHost.generate_recommendations() got an unexpected keyword argument 'beta'"
     ]
    }
   ],
   "source": [
    "# Create a UserProfileHost()\n",
    "user_profile_host = UserProfileHost(\n",
    "    original_prompt='A cute cat',\n",
    "    add_ons=None,\n",
    "    cache_dir='../cache/',\n",
    "    axis_with_context=True\n",
    ")\n",
    "\n",
    "# Define some specifications\n",
    "num_recommendations = 5\n",
    "beta = 20\n",
    "\n",
    "# Play through an iteration loop\n",
    "embeddings = user_profile_host.generate_recommendations(num_recommendations=num_recommendations, beta=beta)\n",
    "preferences = torch.randint(0, 100, size=(num_recommendations,1)) / 10\n",
    "for i in range(20):\n",
    "    # Reduce Beta\n",
    "    beta -= 1\n",
    "    # Update the user profile\n",
    "    user_profile_host.fit_user_profile(preferences=preferences)\n",
    "    # Generate new Recommendations\n",
    "    embeddings = user_profile_host.generate_recommendations(num_recommendations=num_recommendations, beta=beta)\n",
    "    # TODO: This would be where webui and generator generate the images and show them to the user to get preferences.\n",
    "    preferences = torch.randint(0, 100, size=(num_recommendations,1)) / 10 # placeholder\n",
    "    print(\"Test\")"
   ]
  },
  {
   "cell_type": "code",
   "execution_count": null,
   "metadata": {},
   "outputs": [],
   "source": []
  }
 ],
 "metadata": {
  "kernelspec": {
   "display_name": "mmll",
   "language": "python",
   "name": "python3"
  },
  "language_info": {
   "codemirror_mode": {
    "name": "ipython",
    "version": 3
   },
   "file_extension": ".py",
   "mimetype": "text/x-python",
   "name": "python",
   "nbconvert_exporter": "python",
   "pygments_lexer": "ipython3",
   "version": "3.11.5"
  }
 },
 "nbformat": 4,
 "nbformat_minor": 2
}
