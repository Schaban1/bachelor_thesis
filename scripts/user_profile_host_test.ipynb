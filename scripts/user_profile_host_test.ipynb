{
 "cells": [
  {
   "cell_type": "code",
   "execution_count": 1,
   "metadata": {},
   "outputs": [
    {
     "name": "stderr",
     "output_type": "stream",
     "text": [
      "/home/phahn/venvs/mmll/lib/python3.11/site-packages/tqdm/auto.py:21: TqdmWarning: IProgress not found. Please update jupyter and ipywidgets. See https://ipywidgets.readthedocs.io/en/stable/user_install.html\n",
      "  from .autonotebook import tqdm as notebook_tqdm\n"
     ]
    }
   ],
   "source": [
    "import torch\n",
    "\n",
    "import sys\n",
    "sys.path.append(\"../\")\n",
    "\n",
    "from prototype.user_profile_host import UserProfileHost\n",
    "from prototype.constants import RecommendationType"
   ]
  },
  {
   "cell_type": "code",
   "execution_count": 2,
   "metadata": {},
   "outputs": [
    {
     "name": "stderr",
     "output_type": "stream",
     "text": [
      "Loading pipeline components...: 100%|██████████| 7/7 [00:00<00:00, 13.53it/s]\n"
     ]
    },
    {
     "name": "stdout",
     "output_type": "stream",
     "text": [
      "The following prompts will be generated with various latents:\n",
      "1: 3D voxel art of A cute cat in a futuristic city, in a high-energy, pulsating atmosphere, high-definition textures\n",
      "2: Acrylic painting of A cute cat with a glowing moon in the background, glowing halo effect, award-winning quality\n",
      "Top 4 Image Styles:\n",
      "Acrylic painting of  with prob of 11.05 %\n",
      "3D voxel art of  with prob of 7.56 %\n",
      "Abstract art of  with prob of 2.91 %\n",
      "Realistic portrait of  with prob of 2.91 %\n",
      "Top 4 Secondary Contexts:\n",
      " with a glowing moon in the background with prob of 13.38 %\n",
      " in a futuristic city with prob of 9.15 %\n",
      " floating in a bubble with prob of 3.52 %\n",
      " covered with molten veins with prob of 3.52 %\n",
      "Top 4 Atmospheric Attributes:\n",
      ", glowing halo effect with prob of 11.05 %\n",
      ", in a high-energy, pulsating atmosphere with prob of 7.56 %\n",
      ", vibrant, neon lighting with prob of 2.91 %\n",
      ", in a high-contrast, dramatic setting with prob of 2.91 %\n",
      "Top 4 Quality Terms:\n",
      ", award-winning quality with prob of 16.24 %\n",
      ", high-definition textures with prob of 11.11 %\n",
      ", hyper-realistic with prob of 4.27 %\n",
      ", with crisp lines with prob of 4.27 %\n",
      "The following prompts will be generated with various latents:\n",
      "1: Polaroid of A cute cat covered with molten veins, glowing halo effect, 4K resolution\n",
      "2: Realistic portrait of A cute cat with heavy rain pouring down, peaceful, tranquil mood, award-winning quality\n",
      "Test\n",
      "Top 4 Image Styles:\n",
      "3D voxel art of  with prob of 10.29 %\n",
      "Acrylic painting of  with prob of 7.35 %\n",
      "Abstract art of  with prob of 2.94 %\n",
      "Realistic portrait of  with prob of 2.94 %\n",
      "Top 4 Secondary Contexts:\n",
      " in a futuristic city with prob of 12.5 %\n",
      " with a glowing moon in the background with prob of 8.93 %\n",
      " covered with molten veins with prob of 3.57 %\n",
      " floating in a bubble with prob of 3.57 %\n",
      "Top 4 Atmospheric Attributes:\n",
      ", in a high-energy, pulsating atmosphere with prob of 10.29 %\n",
      ", glowing halo effect with prob of 7.35 %\n",
      ", in the style of liquid metal with prob of 2.94 %\n",
      ", in a high-contrast, dramatic setting with prob of 2.94 %\n",
      "Top 4 Quality Terms:\n",
      ", high-definition textures with prob of 15.22 %\n",
      ", award-winning quality with prob of 10.87 %\n",
      ", with crisp lines with prob of 4.35 %\n",
      ", hyper-realistic with prob of 4.35 %\n",
      "The following prompts will be generated with various latents:\n",
      "1: Acrylic painting of A cute cat swimming through an ocean of floating constellations, in a sun-drenched scene, high-definition textures\n",
      "2: Pastel drawing of A cute cat floating through space, in 4K resolution\n",
      "Test\n",
      "Top 4 Image Styles:\n",
      "3D voxel art of  with prob of 15.85 %\n",
      "Acrylic painting of  with prob of 7.65 %\n",
      "Abstract art of  with prob of 2.73 %\n",
      "Realistic portrait of  with prob of 2.73 %\n",
      "Top 4 Secondary Contexts:\n",
      " in a futuristic city with prob of 18.95 %\n",
      " with a glowing moon in the background with prob of 9.15 %\n",
      " covered with molten veins with prob of 3.27 %\n",
      " floating in a bubble with prob of 3.27 %\n",
      "Top 4 Atmospheric Attributes:\n",
      ", in a high-energy, pulsating atmosphere with prob of 15.85 %\n",
      ", glowing halo effect with prob of 7.65 %\n",
      ", in the style of liquid metal with prob of 2.73 %\n",
      ", in a high-contrast, dramatic setting with prob of 2.73 %\n",
      "Top 4 Quality Terms:\n",
      ", high-definition textures with prob of 22.66 %\n",
      ", award-winning quality with prob of 10.94 %\n",
      ", with crisp lines with prob of 3.91 %\n",
      ", hyper-realistic with prob of 3.91 %\n",
      "The following prompts will be generated with various latents:\n",
      "1: Fantasy art of A cute cat covered with molten veins, faint, misty light\n",
      "2: A cute cat suspended in a jar of glowing liquid, faint, misty light, high-definition textures\n",
      "Test\n"
     ]
    }
   ],
   "source": [
    "# Create a UserProfileHost()\n",
    "user_profile_host = UserProfileHost(\n",
    "    original_prompt='A cute cat',\n",
    "    add_ons=None,\n",
    "    cache_dir='../cache/',\n",
    "    recommendation_type = RecommendationType.SIMPLE,\n",
    ")\n",
    "\n",
    "# Define some specifications\n",
    "num_recommendations = 2\n",
    "beta = 20\n",
    "\n",
    "# Play through an iteration loop\n",
    "embeddings = user_profile_host.generate_recommendations(num_recommendations=num_recommendations)\n",
    "preferences = torch.randint(0, 10, size=(num_recommendations,1)) / 10\n",
    "for i in range(3):\n",
    "    # Reduce Beta\n",
    "    beta -= 1\n",
    "    # Update the user profile\n",
    "    user_profile_host.fit_user_profile(preferences=preferences)\n",
    "    # Generate new Recommendations\n",
    "    embeddings = user_profile_host.generate_recommendations(num_recommendations=num_recommendations)\n",
    "    # TODO: This would be where webui and generator generate the images and show them to the user to get preferences.\n",
    "    preferences = torch.randint(0, 10, size=(num_recommendations,1)) / 10 # placeholder\n",
    "    print(\"Test\")"
   ]
  },
  {
   "cell_type": "code",
   "execution_count": null,
   "metadata": {},
   "outputs": [
    {
     "ename": "",
     "evalue": "",
     "output_type": "error",
     "traceback": [
      "\u001b[1;31mnotebook controller is DISPOSED. \n",
      "\u001b[1;31mView Jupyter <a href='command:jupyter.viewOutput'>log</a> for further details."
     ]
    },
    {
     "ename": "",
     "evalue": "",
     "output_type": "error",
     "traceback": [
      "\u001b[1;31mnotebook controller is DISPOSED. \n",
      "\u001b[1;31mView Jupyter <a href='command:jupyter.viewOutput'>log</a> for further details."
     ]
    }
   ],
   "source": []
  }
 ],
 "metadata": {
  "kernelspec": {
   "display_name": "mmll",
   "language": "python",
   "name": "python3"
  },
  "language_info": {
   "codemirror_mode": {
    "name": "ipython",
    "version": 3
   },
   "file_extension": ".py",
   "mimetype": "text/x-python",
   "name": "python",
   "nbconvert_exporter": "python",
   "pygments_lexer": "ipython3",
   "version": "3.11.5"
  }
 },
 "nbformat": 4,
 "nbformat_minor": 2
}
