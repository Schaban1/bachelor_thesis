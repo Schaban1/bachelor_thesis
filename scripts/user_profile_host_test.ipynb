{
 "cells": [
  {
   "cell_type": "code",
   "execution_count": null,
   "metadata": {},
   "outputs": [],
   "source": [
    "import torch\n",
    "\n",
    "import sys\n",
    "sys.path.append(\"../\")\n",
    "\n",
    "from prototype.user_profile_host import UserProfileHost\n",
    "from prototype.constants import RecommendationType"
   ]
  },
  {
   "cell_type": "code",
   "execution_count": null,
   "metadata": {},
   "outputs": [],
   "source": [
    "# Create a UserProfileHost()\n",
    "user_profile_host = UserProfileHost(\n",
    "    original_prompt='A cute cat',\n",
    "    add_ons=None,\n",
    "    cache_dir='../cache/',\n",
    "    axis_with_context=True,\n",
    "    recommendation_type = RecommendationType.SIMPLE2,\n",
    ")\n",
    "\n",
    "# Define some specifications\n",
    "num_recommendations = 5\n",
    "beta = 20\n",
    "\n",
    "# Play through an iteration loop\n",
    "embeddings = user_profile_host.generate_recommendations(num_recommendations=num_recommendations)\n",
    "preferences = torch.randint(0, 10, size=(num_recommendations,1)) / 10\n",
    "for i in range(20):\n",
    "    # Reduce Beta\n",
    "    beta -= 1\n",
    "    # Update the user profile\n",
    "    user_profile_host.fit_user_profile(preferences=preferences)\n",
    "    # Generate new Recommendations\n",
    "    embeddings = user_profile_host.generate_recommendations(num_recommendations=num_recommendations)\n",
    "    # TODO: This would be where webui and generator generate the images and show them to the user to get preferences.\n",
    "    preferences = torch.randint(0, 10, size=(num_recommendations,1)) / 10 # placeholder\n",
    "    print(\"Test\")"
   ]
  },
  {
   "cell_type": "code",
   "execution_count": null,
   "metadata": {},
   "outputs": [],
   "source": []
  }
 ],
 "metadata": {
  "kernelspec": {
   "display_name": "mmll",
   "language": "python",
   "name": "python3"
  },
  "language_info": {
   "codemirror_mode": {
    "name": "ipython",
    "version": 3
   },
   "file_extension": ".py",
   "mimetype": "text/x-python",
   "name": "python",
   "nbconvert_exporter": "python",
   "pygments_lexer": "ipython3",
   "version": "3.11.5"
  }
 },
 "nbformat": 4,
 "nbformat_minor": 2
}
