{
 "cells": [
  {
   "cell_type": "code",
   "execution_count": 1,
   "metadata": {},
   "outputs": [
    {
     "name": "stderr",
     "output_type": "stream",
     "text": [
      "/home/phahn/venvs/mmll/lib/python3.11/site-packages/tqdm/auto.py:21: TqdmWarning: IProgress not found. Please update jupyter and ipywidgets. See https://ipywidgets.readthedocs.io/en/stable/user_install.html\n",
      "  from .autonotebook import tqdm as notebook_tqdm\n"
     ]
    }
   ],
   "source": [
    "import torch\n",
    "\n",
    "import sys\n",
    "sys.path.append(\"../\")\n",
    "\n",
    "from prototype.user_profile_host import UserProfileHost\n",
    "from prototype.constants import RecommendationType"
   ]
  },
  {
   "cell_type": "code",
   "execution_count": 2,
   "metadata": {},
   "outputs": [
    {
     "name": "stderr",
     "output_type": "stream",
     "text": [
      "Loading pipeline components...:   0%|          | 0/7 [00:00<?, ?it/s]"
     ]
    },
    {
     "name": "stderr",
     "output_type": "stream",
     "text": [
      "Loading pipeline components...: 100%|██████████| 7/7 [00:00<00:00, 13.34it/s]\n"
     ]
    },
    {
     "name": "stdout",
     "output_type": "stream",
     "text": [
      "Use axes with context:  True\n",
      "3D render of A cute cat overgrown by plants with bright, ethereal colors, highly detailed\n",
      "fantasy art of A cute cat floating in a bubble in a sun-drenched scene, super realistic\n",
      "concept art of A cute cat in a haunted house with vibrant, neon lighting, high-definition textures\n",
      "abstract art of A cute cat in deep space in a cold, eerie atmosphere, in 4K resolution\n",
      "acrylic painting of A cute cat surrounded by flames with a center-focus, intricate details\n",
      "photorealistic drawing of A cute cat in the heart of a tornado with a peaceful, tranquil mood, hyper-realistic\n",
      "digital painting of A cute cat covered in ice and snow with a faint, misty light, with pristine quality\n",
      "polaroid of A cute cat surrounded by flowing rivers in a dark, brooding tone, sharp focus\n",
      "pastel drawing of A cute cat in a cyberpunk world with a glowing halo, in stunning clarity\n",
      "realistic portrait of A cute cat on a rainy day with fiery backlighting, 4K resolution\n",
      "vintage photograph of A cute cat on a floating island with dramatic shadows, in HD\n",
      "glitch art of A cute cat in a magical realm in a high-contrast setting, with realistic lighting\n",
      "photo of A cute cat covered in flames with sharp, crisp lighting, in high definition\n",
      "Test\n",
      "Test\n",
      "Test\n",
      "Test\n",
      "Test\n",
      "Test\n",
      "Test\n",
      "Test\n",
      "Test\n",
      "Test\n",
      "Test\n",
      "Test\n",
      "Test\n",
      "Test\n",
      "Test\n",
      "Test\n",
      "Test\n",
      "Test\n",
      "Test\n",
      "Test\n"
     ]
    }
   ],
   "source": [
    "# Create a UserProfileHost()\n",
    "user_profile_host = UserProfileHost(\n",
    "    original_prompt='A cute cat',\n",
    "    add_ons=None,\n",
    "    cache_dir='../cache/',\n",
    "    axis_with_context=True,\n",
    "    recommendation_type = RecommendationType.SIMPLE,\n",
    ")\n",
    "\n",
    "# Define some specifications\n",
    "num_recommendations = 5\n",
    "beta = 20\n",
    "\n",
    "# Play through an iteration loop\n",
    "embeddings = user_profile_host.generate_recommendations(num_recommendations=num_recommendations)\n",
    "preferences = torch.randint(0, 100, size=(num_recommendations,1)) / 10\n",
    "for i in range(20):\n",
    "    # Reduce Beta\n",
    "    beta -= 1\n",
    "    # Update the user profile\n",
    "    user_profile_host.fit_user_profile(preferences=preferences)\n",
    "    # Generate new Recommendations\n",
    "    embeddings = user_profile_host.generate_recommendations(num_recommendations=num_recommendations)\n",
    "    # TODO: This would be where webui and generator generate the images and show them to the user to get preferences.\n",
    "    preferences = torch.randint(0, 100, size=(num_recommendations,1)) / 10 # placeholder\n",
    "    print(\"Test\")"
   ]
  },
  {
   "cell_type": "code",
   "execution_count": null,
   "metadata": {},
   "outputs": [
    {
     "ename": "",
     "evalue": "",
     "output_type": "error",
     "traceback": [
      "\u001b[1;31mnotebook controller is DISPOSED. \n",
      "\u001b[1;31mView Jupyter <a href='command:jupyter.viewOutput'>log</a> for further details."
     ]
    }
   ],
   "source": [
    "embeddings"
   ]
  },
  {
   "cell_type": "code",
   "execution_count": null,
   "metadata": {},
   "outputs": [
    {
     "data": {
      "text/plain": [
       "[7.300000190734863,\n",
       " 5.5,\n",
       " 7.400000095367432,\n",
       " 1.2999999523162842,\n",
       " 7.599999904632568]"
      ]
     },
     "execution_count": 6,
     "metadata": {},
     "output_type": "execute_result"
    },
    {
     "ename": "",
     "evalue": "",
     "output_type": "error",
     "traceback": [
      "\u001b[1;31mnotebook controller is DISPOSED. \n",
      "\u001b[1;31mView Jupyter <a href='command:jupyter.viewOutput'>log</a> for further details."
     ]
    }
   ],
   "source": [
    "preferences.reshape(-1).tolist()"
   ]
  },
  {
   "cell_type": "code",
   "execution_count": null,
   "metadata": {},
   "outputs": [
    {
     "ename": "",
     "evalue": "",
     "output_type": "error",
     "traceback": [
      "\u001b[1;31mnotebook controller is DISPOSED. \n",
      "\u001b[1;31mView Jupyter <a href='command:jupyter.viewOutput'>log</a> for further details."
     ]
    }
   ],
   "source": []
  }
 ],
 "metadata": {
  "kernelspec": {
   "display_name": "mmll",
   "language": "python",
   "name": "python3"
  },
  "language_info": {
   "codemirror_mode": {
    "name": "ipython",
    "version": 3
   },
   "file_extension": ".py",
   "mimetype": "text/x-python",
   "name": "python",
   "nbconvert_exporter": "python",
   "pygments_lexer": "ipython3",
   "version": "3.11.5"
  }
 },
 "nbformat": 4,
 "nbformat_minor": 2
}
