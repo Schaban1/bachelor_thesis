{
 "cells": [
  {
   "cell_type": "code",
   "execution_count": 1,
   "metadata": {},
   "outputs": [],
   "source": [
    "import sys\n",
    "sys.path.append(\"/..\")\n",
    "import json\n",
    "import random"
   ]
  },
  {
   "cell_type": "code",
   "execution_count": 4,
   "metadata": {},
   "outputs": [],
   "source": [
    "# Collect a list of prompts\n",
    "A = [\n",
    "    \"A photo of an interior garden, in the style of colorful Moebius, a room made entirely from giant flowers and plants, multicolored curved furniture in the center, pastel colors, surrealistic, psychedelic, in the style of Wes Anderson, in the style of Salvador Dali, dreamy, hyper-realistic, high resolution, shot on Canon R5, wide-angle, sharp focus, intricate details, highly detailed\",\n",
    "    \"Hot, beauty, creature, girl, with a symmetrical frontal portrait, blue butterflies, attractive, elegant, gorgeous, cute, abstract animal prints, face paint, open shoulder cute gauze V, hot, porcelain-inspired, poster-like moonlit dance rituals and campfires, a robot showing a sophisticated dance and Japanese minimalism outfit, photography by Jimmy Nelson, 35mm film, Jean Baptiste Monge, Takashi Murakami, Yoh Nagao, Lisa Frank, Boris Vallejo, art by Gerald Brom, Junji Ito, Tomer Hanuka, Enki Bilal, Oleg Oprisco, Boris Vallejo, Moebius, Nikon photography, shot photography by Wes Anderson, Kodak color, HD, 200mm\",\n",
    "    \"The boy and girl, both 10 years old, attacked by a burned woman, forest at night, full moon among the clouds, woodcut, hd, 4k\",\n",
    "    \"An open book, sitting on top of a table, intricate alien botanicals, an indigo forest in japan, artsation contest winner, jenny savile, swarming with insects, inspired by jeonseok lee, made of mushrooms, blue rose, trending on artsation, wonderland portal, artforum\",\n",
    "    \"A photograph of a high-end model with dewy skin, a very sexy look at the camera, wearing a large puffy white down jacket with blue and yellow details, light pastel colors, and art deco embroidered floral vintage botanical patterns, carnivorous plants showcasing the unique and surreal shapes in various shades of pink, green, yellow, orange, red, purple, brown, beige, black, and cream, intricate details and textures, plants with own distinct characters, including delicate petals, swirling vines, and whimsical forms, the background is white, long hair styled into loose waves, posing for a fashion editorial shoot, photographed in the vogue style with high-resolution photography, blend the photos together to create a unique wear design\",\n",
    "    \"Evil, obsidian golem, living statue carved from dark, volcanic rock, intricate cracks, molten veins, weighty physics, unreal 5, dark glow\",\n",
    "    \"1990s anime sci-fi close-up, eye with the universe in it, detailed, toriyama, miyazaki\",\n",
    "    \"An ultrarealistic photograph, enormous minimalist futuristic full-body power suit, without lights, made of white metal and polymer, full crystal hull, for a muscular man, imposing, modern minimalism, elegant, dystopia, mysterious, godlike, scary, in a dark room, with a red cape, 8k\",\n",
    "    \"Lonely cyborg astronaut in jupiter, epic scene, by victo ngai, kilian eng vibrant colours, dynamic lighting, digital art, winning award masterpiece, fantastically beautiful, illustration, aesthetically inspired by beksinski and dan mumford, trending on artstation, art by greg rutkowski, 8k\",\n",
    "    \"Zzyzx, one line drawing, bold sketch inspired by bauhaus and henri matisse, black and white\",\n",
    "    \"Jellyfish glowing, blue, pink, purple, 8k, stunning intricate details, by artgerm\",\n",
    "    \"A photo of a distant star, partially covered by another celestial object, diagonal glare, gradient background, lens flare\",\n",
    "    \"Some people look over tall building windows, in the style of dark hues, rural china, coded patterns, sparse and simple, uhd image, urbancore, sovietwave, negative space, award-winning design\",\n",
    "    \"high-resolution artwork, ninja girl, designing at a computer, in a room full of gadgets, inspired by makoto shinkai, ghibli studio, outlined silhouettes, dramatic lighting, highly detailed, incredible quality, trending on artstation, a masterpiece, 8k resolution\",\n",
    "    \"double exposure oil action, japanese geisha, dot painting, on canvas, wooden sculptural art, diptych, one art, yin yang, japanese dressed girl\",\n",
    "    \"A person overlooking a street, with people on it, from the top of a building, no faces, starry, smoky, and powdered all minimal theme, with a little touch of red\",\n",
    "    \"Dark aesthetic, futuristic mechanical robot with gears and wires, commuting in a very crowded subway train during rush hour, stunning photo\",\n",
    "    \"Multi-dimensional brick-cut craft, paper illustration, tunnel, stars and planets, vine, colorful, beautiful highly detailed intricate full-body portrait photography\",\n",
    "    \"Anime, wide shot, tentacle hair, extra eyes, demonic evil venom squid alien, venom intricate, tentacle hair, red intricate glowing eyes, venom, cosmic goddess, suit made out of stars and galaxies and cosmic energy, highly detailed, digital painting, artstation, concept art, smooth, sharp focus, illustration, artgerm, 8k\",\n",
    "    \"multisensory spaces, emotional well-being, neuroarchitecture, visual impairment, sensory stimuli, perception, inclusive design, neuroscience, sensory experience, architectural language, health and well-being, mirror, neurons, somatosensory, cortex, sensory ,development, impact of human behavior, graphic language, visual characteristics, design tools, visual mapping of space textures in architecture\",\n",
    "    \"Solar eclipse and war in the sky, exploding ufos, world attack with violence, hd, 8k, full color, high definition, woodcut\",\n",
    "    \"Ancient war dragon, with a grand demeanor, a crown of horns, fused with a god lion, with molten lava patterns, ultra realistic\",\n",
    "    \"Scary monster, in a dark forest, cartoon, cel-shaded, horror\",\n",
    "    \"Cat baking a cake\",\n",
    "    \"Bird\",\n",
    "    \"Basic minimalist design, pastel tones, white background, t-shirt design for spring, rabbit with flowers, white background, similar to peter rabbit\",\n",
    "    \"Yellow minions, business class, cabin of a lufthansa aircraft, wide angle\",\n",
    "    \"Fantasy, candle lighting, crystals, occult tools, high resolution, magical, witch tools, magical items, witch's wand totem\",\n",
    "    \"sunset over the ocean, bustling city street, snowy mountain landscape, vibrant market scene, traditional Japanese tea ceremony, futuristic city skyline, vintage car parked on a street, tropical rainforest with animals, serene lake at dawn, artist’s studio with paint splatters, ancient ruins at sunset, colorful street art mural, tranquil garden with koi pond, astronaut floating in space, wide desert with a lone cactus, forest in autumn with falling leaves, close-up of a butterfly on a flower, skyscrapers reflecting in glass, busy kitchen with chef preparing food, farmer working on a field, coastal cliffs with crashing waves, misty forest path, person walking a dog in the park, peaceful yoga session by the beach, desert dunes with footprints, wild horses running through the plains, classic wooden boat on a river, cozy cabin in the snowy woods, futuristic robot interacting with people, underwater coral reef with marine life, colorful hot air balloons in the sky, ancient castle on a hill, high-speed train traveling through countryside, young child playing with building blocks, underwater cave with bioluminescent creatures, butterfly wings close-up, a couple in a café on a rainy day, person meditating on a mountain top, old bookstore with rows of books, delicious sushi on a plate, close-up of a leather artisan at work, a crowded concert with flashing lights, dense jungle with a waterfall, city park during spring bloom, artist painting a landscape outdoors, tropical island with crystal-clear water, vibrant tulip field in full bloom, abandoned house in a ghost town, hikers on a rocky trail, hot cup of coffee on a rainy day, windmill in a Dutch countryside, group of friends at a beach bonfire, children playing in a snowstorm, crowded subway platform, group of tourists at the Eiffel Tower, farmer’s market with fresh produce, silhouette of a dancer in motion, antique shop with vintage items, kite flying in a clear blue sky, interior of a modern apartment, aerial view of a large city, colorful street festival with music, woman running in the park at sunrise, mountain bike riding through the woods, classic architecture in an old European city, bungee jumper leaping from a bridge, construction site with workers, hot spring surrounded by nature, group of cyclists on a winding road, bustling fish market, interior of an old church with stained glass windows, street performers entertaining a crowd, serene temple garden with bonsai trees, family having a picnic by the lake, astronaut standing on the moon, Christmas market with festive lights, graffiti wall in an urban alley, colorful autumn trees reflected in water, large bonsai tree in a Japanese garden, a young couple on a boat at sunset, close-up of fresh fruits at a farmer’s market, airplane flying through the clouds, medieval knight in armor, city skyline at night with lights reflecting on the river, close-up of an artist’s hands holding a brush, mountain landscape with a river flowing through it, fashion model on a city street, luxurious spa interior with candles, vintage record player with vinyl, street food stall with sizzling dishes, lush vineyard in early autumn, children playing in a sandbox, ocean waves crashing on the shore, crowded sports stadium during a match, delicious chocolate cake with strawberries, creative office space with plants, old wooden bridge over a river, stunning aurora borealis in the Arctic sky, futuristic electric car on a road, beach with people enjoying water sports, night market with lanterns, remote cabin surrounded by pine trees, lush garden with blooming roses, surfer riding a big wave, close-up of a chef’s knife cutting vegetables, traditional Indian wedding ceremony, vintage suitcase at an airport terminal, peaceful library with rows of bookshelves, close-up of a person's hands planting a tree\",\n",
    "]\n",
    "\n",
    "B = []\n",
    "for s in A:\n",
    "    B.extend(s.split(\", \"))\n",
    "C = list(set(B))\n",
    "\n",
    "with open('individual_tokens_with_contexts.json', 'w') as f:\n",
    "    json.dump(C, f)"
   ]
  },
  {
   "cell_type": "code",
   "execution_count": 3,
   "metadata": {},
   "outputs": [
    {
     "data": {
      "text/plain": [
       "['An open book, highly detailed, woman running in the park at sunrise, purple, award-winning design, Hot, neuroscience, surrealistic, vibrant tulip field in full bloom, in the style of colorful Moebius, traditional Indian wedding ceremony, highly detailed, Takashi Murakami, 1990s anime sci-fi close-up, person walking a dog in the park',\n",
       " '8k, with a red cape, open shoulder cute gauze V, intricate cracks, brown, dark glow, both 10 years old, Basic minimalist design, one line drawing, toriyama, scary, inspired by jeonseok lee, Anime, airplane flying through the clouds, neuroscience',\n",
       " 'ancient castle on a hill, 8k resolution, exploding ufos, dynamic lighting, artgerm, astronaut standing on the moon, t-shirt design for spring, and art deco embroidered floral vintage botanical patterns, futuristic electric car on a road, wide angle, crowded subway platform, imposing, futuristic city skyline, Fantasy, magical',\n",
       " 'astronaut standing on the moon, dark glow, uhd image, blend the photos together to create a unique wear design, vine, design tools, astronaut standing on the moon, commuting in a very crowded subway train during rush hour, double exposure oil action, white background, in the style of colorful Moebius, group of cyclists on a winding road, blue, person walking a dog in the park, Lisa Frank',\n",
       " 'farmer’s market with fresh produce, wide angle, multisensory spaces, forest at night, dot painting, Kodak color, sitting on top of a table, outlined silhouettes, a couple in a café on a rainy day, skyscrapers reflecting in glass, shot photography by Wes Anderson, woman running in the park at sunrise, close-up of a chef’s knife cutting vegetables, with people on it, classic architecture in an old European city',\n",
       " \"detailed, luxurious spa interior with candles, witch's wand totem, world attack with violence, night market with lanterns, godlike, large bonsai tree in a Japanese garden, hot cup of coffee on a rainy day, mountain bike riding through the woods, ocean waves crashing on the shore, jenny savile, street performers entertaining a crowd, sparse and simple, colorful street festival with music, coded patterns\",\n",
       " 'silhouette of a dancer in motion, a masterpiece, artsation contest winner, Hot, hot spring surrounded by nature, underwater coral reef with marine life, design tools, woodcut, high-resolution artwork, vintage record player with vinyl, for a muscular man, visual characteristics, art by Gerald Brom, world attack with violence, colorful street festival with music',\n",
       " 'colorful autumn trees reflected in water, smoky, full crystal hull, business class, Boris Vallejo, shot photography by Wes Anderson, imposing, busy kitchen with chef preparing food, children playing in a snowstorm, one line drawing, cozy cabin in the snowy woods, bold sketch inspired by bauhaus and henri matisse, dramatic lighting, imposing, impact of human behavior',\n",
       " 'close-up of a butterfly on a flower, negative space, a room made entirely from giant flowers and plants, unreal 5, one line drawing, construction site with workers, in a dark forest, open shoulder cute gauze V, shot on Canon R5, a crowded concert with flashing lights, Jean Baptiste Monge, graffiti wall in an urban alley, miyazaki, street performers entertaining a crowd, sunset over the ocean',\n",
       " 'abandoned house in a ghost town, visual characteristics, Bird, long hair styled into loose waves, in a dark forest, bustling city street, a crown of horns, Lonely cyborg astronaut in jupiter, beauty, interior of an old church with stained glass windows, blend the photos together to create a unique wear design, imposing, futuristic robot interacting with people, busy kitchen with chef preparing food, futuristic robot interacting with people']"
      ]
     },
     "execution_count": 3,
     "metadata": {},
     "output_type": "execute_result"
    }
   ],
   "source": [
    "with open('individual_tokens_with_contexts.json', 'r') as f:\n",
    "    L = json.load(f)\n",
    "add_ons = []\n",
    "for i in range(10):\n",
    "    add_on = \"\"\n",
    "    for j in range(15):\n",
    "        idx = random.choice(range(len(L)))\n",
    "        add_on += L[idx] + ', '\n",
    "    add_ons.append(add_on[:-2])\n",
    "add_ons"
   ]
  },
  {
   "cell_type": "code",
   "execution_count": null,
   "metadata": {},
   "outputs": [],
   "source": []
  }
 ],
 "metadata": {
  "kernelspec": {
   "display_name": "mmll",
   "language": "python",
   "name": "python3"
  },
  "language_info": {
   "codemirror_mode": {
    "name": "ipython",
    "version": 3
   },
   "file_extension": ".py",
   "mimetype": "text/x-python",
   "name": "python",
   "nbconvert_exporter": "python",
   "pygments_lexer": "ipython3",
   "version": "3.11.5"
  }
 },
 "nbformat": 4,
 "nbformat_minor": 2
}
