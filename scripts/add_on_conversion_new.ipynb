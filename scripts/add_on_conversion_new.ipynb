{
 "cells": [
  {
   "cell_type": "code",
   "execution_count": 2,
   "metadata": {},
   "outputs": [],
   "source": [
    "import sys\n",
    "sys.path.append(\"/..\")\n",
    "import json\n",
    "import random"
   ]
  },
  {
   "cell_type": "code",
   "execution_count": 6,
   "metadata": {},
   "outputs": [],
   "source": [
    "# Collect a list of prompts\n",
    "A = [\n",
    "    \"A photo of an interior garden, in the style of colorful Moebius, a room made entirely from giant flowers and plants, multicolored curved furniture in the center, pastel colors, surrealistic, psychedelic, in the style of Wes Anderson, in the style of Salvador Dali, dreamy, hyper-realistic, high resolution, shot on Canon R5, wide-angle, sharp focus, intricate details, highly detailed\",\n",
    "    \"Hot, beauty, creature, girl, with a symmetrical frontal portrait, blue butterflies, attractive, elegant, gorgeous, cute, abstract animal prints, face paint, open shoulder cute gauze V, hot, porcelain-inspired, poster-like moonlit dance rituals and campfires, a robot showing a sophisticated dance and Japanese minimalism outfit, photography by Jimmy Nelson, 35mm film, Jean Baptiste Monge, Takashi Murakami, Yoh Nagao, Lisa Frank, Boris Vallejo, art by Gerald Brom, Junji Ito, Tomer Hanuka, Enki Bilal, Oleg Oprisco, Boris Vallejo, Moebius, Nikon photography, shot photography by Wes Anderson, Kodak color, HD, 200mm\",\n",
    "    \"The boy and girl, both 10 years old, attacked by a burned woman, forest at night, full moon among the clouds, woodcut, hd, 4k\",\n",
    "    \"An open book, sitting on top of a table, intricate alien botanicals, an indigo forest in japan, artsation contest winner, jenny savile, swarming with insects, inspired by jeonseok lee, made of mushrooms, blue rose, trending on artsation, wonderland portal, artforum\",\n",
    "    \"A photograph of a high-end model with dewy skin, a very sexy look at the camera, wearing a large puffy white down jacket with blue and yellow details, light pastel colors, and art deco embroidered floral vintage botanical patterns, carnivorous plants showcasing the unique and surreal shapes in various shades of pink, green, yellow, orange, red, purple, brown, beige, black, and cream, intricate details and textures, plants with own distinct characters, including delicate petals, swirling vines, and whimsical forms, the background is white, long hair styled into loose waves, posing for a fashion editorial shoot, photographed in the vogue style with high-resolution photography, blend the photos together to create a unique wear design\",\n",
    "    \"Evil, obsidian golem, living statue carved from dark, volcanic rock, intricate cracks, molten veins, weighty physics, unreal 5, dark glow\",\n",
    "    \"1990s anime sci-fi close-up, eye with the universe in it, detailed, toriyama, miyazaki\",\n",
    "    \"An ultrarealistic photograph, enormous minimalist futuristic full-body power suit, without lights, made of white metal and polymer, full crystal hull, for a muscular man, imposing, modern minimalism, elegant, dystopia, mysterious, godlike, scary, in a dark room, with a red cape, 8k\",\n",
    "    \"Lonely cyborg astronaut in jupiter, epic scene, by victo ngai, kilian eng vibrant colours, dynamic lighting, digital art, winning award masterpiece, fantastically beautiful, illustration, aesthetically inspired by beksinski and dan mumford, trending on artstation, art by greg rutkowski, 8k\",\n",
    "    \"Zzyzx, one line drawing, bold sketch inspired by bauhaus and henri matisse, black and white\",\n",
    "    \"Jellyfish glowing, blue, pink, purple, 8k, stunning intricate details, by artgerm\",\n",
    "    \"A photo of a distant star, partially covered by another celestial object, diagonal glare, gradient background, lens flare\",\n",
    "    \"Some people look over tall building windows, in the style of dark hues, rural china, coded patterns, sparse and simple, uhd image, urbancore, sovietwave, negative space, award-winning design\",\n",
    "    \"high-resolution artwork, ninja girl, designing at a computer, in a room full of gadgets, inspired by makoto shinkai, ghibli studio, outlined silhouettes, dramatic lighting, highly detailed, incredible quality, trending on artstation, a masterpiece, 8k resolution\",\n",
    "    \"double exposure oil action, japanese geisha, dot painting, on canvas, wooden sculptural art, diptych, one art, yin yang, japanese dressed girl\",\n",
    "    \"A person overlooking a street, with people on it, from the top of a building, no faces, starry, smoky, and powdered all minimal theme, with a little touch of red\",\n",
    "    \"Dark aesthetic, futuristic mechanical robot with gears and wires, commuting in a very crowded subway train during rush hour, stunning photo\",\n",
    "    \"Multi-dimensional brick-cut craft, paper illustration, tunnel, stars and planets, vine, colorful, beautiful highly detailed intricate full-body portrait photography\",\n",
    "    \"Anime, wide shot, tentacle hair, extra eyes, demonic evil venom squid alien, venom intricate, tentacle hair, red intricate glowing eyes, venom, cosmic goddess, suit made out of stars and galaxies and cosmic energy, highly detailed, digital painting, artstation, concept art, smooth, sharp focus, illustration, artgerm, 8k\",\n",
    "    \"multisensory spaces, emotional well-being, neuroarchitecture, visual impairment, sensory stimuli, perception, inclusive design, neuroscience, sensory experience, architectural language, health and well-being, mirror, neurons, somatosensory, cortex, sensory ,development, impact of human behavior, graphic language, visual characteristics, design tools, visual mapping of space textures in architecture\",\n",
    "    \"Solar eclipse and war in the sky, exploding ufos, world attack with violence, hd, 8k, full color, high definition, woodcut\",\n",
    "    \"Ancient war dragon, with a grand demeanor, a crown of horns, fused with a god lion, with molten lava patterns, ultra realistic\",\n",
    "    \"Scary monster, in a dark forest, cartoon, cel-shaded, horror\",\n",
    "    \"Cat baking a cake\",\n",
    "    \"Bird\",\n",
    "    \"Basic minimalist design, pastel tones, white background, t-shirt design for spring, rabbit with flowers, white background, similar to peter rabbit\",\n",
    "    \"Yellow minions, business class, cabin of a lufthansa aircraft, wide angle\",\n",
    "    \"Fantasy, candle lighting, crystals, occult tools, high resolution, magical, witch tools, magical items, witch's wand totem\"\n",
    "]\n",
    "\n",
    "B = []\n",
    "for s in A:\n",
    "    B.extend(s.split(\", \"))\n",
    "C = list(set(B))\n",
    "\n",
    "with open('individual_tokens_with_contexts.json', 'w') as f:\n",
    "    json.dump(C, f)"
   ]
  },
  {
   "cell_type": "code",
   "execution_count": 8,
   "metadata": {},
   "outputs": [
    {
     "data": {
      "text/plain": [
       "['cortex, by victo ngai, Evil, Zzyzx, similar to peter rabbit, somatosensory, intricate alien botanicals, Takashi Murakami, stunning photo, world attack with violence, ninja girl, 8k, Tomer Hanuka, ghibli studio, world attack with violence',\n",
       " 'ultra realistic, by artgerm, blend the photos together to create a unique wear design, in a room full of gadgets, full crystal hull, 8k, pastel tones, high definition, A photo of an interior garden, cortex, dark glow, colorful, jenny savile, swirling vines, visual impairment',\n",
       " 'Basic minimalist design, dark glow, A photo of an interior garden, sovietwave, uhd image, visual characteristics, sharp focus, Tomer Hanuka, inspired by jeonseok lee, full moon among the clouds, a very sexy look at the camera, Ancient war dragon, neuroarchitecture, godlike, japanese geisha',\n",
       " 'obsidian golem, blue rose, A person overlooking a street, black and white, design tools, bold sketch inspired by bauhaus and henri matisse, purple, including delicate petals, dreamy, 35mm film, neuroscience, red, commuting in a very crowded subway train during rush hour, volcanic rock, A photo of a distant star',\n",
       " 'venom intricate, wearing a large puffy white down jacket with blue and yellow details, sitting on top of a table, Enki Bilal, sharp focus, girl, in a dark forest, gradient background, kilian eng vibrant colours, long hair styled into loose waves, 35mm film, Bird, japanese dressed girl, cute, inclusive design',\n",
       " \"fused with a god lion, witch's wand totem, double exposure oil action, Some people look over tall building windows, sensory stimuli, magical, inspired by makoto shinkai, japanese geisha, Dark aesthetic, dynamic lighting, business class, starry, Multi-dimensional brick-cut craft, both 10 years old, forest at night\",\n",
       " 'visual characteristics, kilian eng vibrant colours, Lonely cyborg astronaut in jupiter, suit made out of stars and galaxies and cosmic energy, vine, emotional well-being, miyazaki, Zzyzx, one line drawing, with a symmetrical frontal portrait, kilian eng vibrant colours, Fantasy, urbancore, orange, enormous minimalist futuristic full-body power suit',\n",
       " 'black and white, wearing a large puffy white down jacket with blue and yellow details, high definition, blue, An open book, unreal 5, creature, emotional well-being, beauty, intricate details and textures, award-winning design, imposing, negative space, impact of human behavior, tentacle hair',\n",
       " 'one line drawing, with molten lava patterns, an indigo forest in japan, from the top of a building, hd, inclusive design, dreamy, high-resolution artwork, Lisa Frank, with a red cape, 35mm film, Junji Ito, swarming with insects, posing for a fashion editorial shoot, molten veins',\n",
       " 'tunnel, attractive, hyper-realistic, Tomer Hanuka, occult tools, Lisa Frank, a very sexy look at the camera, plants with own distinct characters, Tomer Hanuka, intricate details, magical items, detailed, a room made entirely from giant flowers and plants, photographed in the vogue style with high-resolution photography, fused with a god lion']"
      ]
     },
     "execution_count": 8,
     "metadata": {},
     "output_type": "execute_result"
    }
   ],
   "source": [
    "with open('individual_tokens_with_contexts.json', 'r') as f:\n",
    "    L = json.load(f)\n",
    "add_ons = []\n",
    "for i in range(10):\n",
    "    add_on = \"\"\n",
    "    for j in range(15):\n",
    "        idx = random.choice(range(len(L)))\n",
    "        add_on += L[idx] + ', '\n",
    "    add_ons.append(add_on[:-2])\n",
    "add_ons"
   ]
  },
  {
   "cell_type": "code",
   "execution_count": null,
   "metadata": {},
   "outputs": [],
   "source": []
  }
 ],
 "metadata": {
  "kernelspec": {
   "display_name": "mmll",
   "language": "python",
   "name": "python3"
  },
  "language_info": {
   "codemirror_mode": {
    "name": "ipython",
    "version": 3
   },
   "file_extension": ".py",
   "mimetype": "text/x-python",
   "name": "python",
   "nbconvert_exporter": "python",
   "pygments_lexer": "ipython3",
   "version": "3.11.5"
  }
 },
 "nbformat": 4,
 "nbformat_minor": 2
}
