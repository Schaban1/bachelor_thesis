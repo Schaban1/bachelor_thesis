{
 "cells": [
  {
   "cell_type": "code",
   "execution_count": 24,
   "metadata": {},
   "outputs": [],
   "source": [
    "import sys\n",
    "sys.path.append(\"/..\")\n",
    "import json\n",
    "import random\n"
   ]
  },
  {
   "cell_type": "code",
   "execution_count": 21,
   "metadata": {},
   "outputs": [],
   "source": [
    "# Save to file\n",
    "L = [\"thin lines\", \"breathtaking beauty\", \"whimsical\", \"good color\", \"best quality\", \"Splatter\", \"Fragments\", \"riso design\", \"4K shot on X2D 100C\", \"Fire and Ice\", \"illusionistic detail\", \"illustrated\", \"Sadness\", \"gold\", \"intricate details\", \"smooth\", \"raw character\", \"dreamy\", \"minimalistic\", \"film grain\", \"8k\", \"Album cover\", \"black obsidian\", \"cinematic\", \"Glamour\", \"aesthetics\", \"damien hirst\", \"something that even doesn't exist\", \"highly textured\", \"white background\", \"a detailed painting by hirohiko araki\", \"cg artwork\", \"Colour Splash Art\", \"conceptual portraiture\", \"texture\", \"no background\", \"black and white photography\",  \"surreal\", \"art\", \"blurry\", \"minimalisticat\", \"full height\", \"auras\", \"art by Carne Griffiths and Wadim Kashin\", \"by Magritte\", \"Line Art\", \"claude joseph vernet\", \"impressive\", \"Highly Detailed\", \"wet - on - wet\", \"blending Sun\", \"profile\", \"detailed\", \"depth of field\", \"stunning color scheme\", \"Smooth\", \"sci-fi nature-inspired\" , \"Coloring book with simple and artistic art\", \"Flowers\", \"ArtStation\", \"in Chinese style\", \"Black Ink\", \"Tee-Shirt Design\", \"photorealistic\", \"Brush Strokes\", \"sharp\", \"prickly\", \"in the style of fantasy\", \"Danish Golden Age\", \"beautiful lighting\", \"Watercolor\", \"Continuous line drawings with pastel colors\", \"by Herge\", \"32k uhd\", \"disintegrated\", \"genre defining mixed media collage painting\", \"complex forms\", \"dressed as royal and glamorous in gold and white\", \"Black\", \"messy\", \"colorful\", \"crayon drawing\", \"all lines have the same mass and weight\", \"the lines occupy only the central part of the image\", \"nyc explosion coverage\", \"Realistic\", \"gold shiny background\", \"8k3D photo\", \"taken on a Medium Format Camera\",  \"with ambient lighting\", \"shot photography by wes anderson\", \"Oil On Canvas\", \"energy\", \"hd\", \"done by a 3 year old on white construction paper\", \"high tech\", \"rollei prego 90\", \"concept art\", \"futuristic design\", \"Vibrant\", \"vector illustration\", \"mahogany\", \"tourmaline and gold\", \"rainy\", \"in the style of Jon Klassen\", \"Glowing\", \"stunning\", \"adorable\", \"correct proportions realism ultra high quality\", \"Ultra Sharp Focus\", \"country style background\", \"cluttered\", \"in the style of pop art bold graphics\", \"paper texture\", \"illustration\", \"louis jover\", \"kodak color\", \"unreal engine 5\", \"volumetric light\", \"adventure pulpPlayful\", \"cassius marcellus coolidge\", \"pastels cream blackbeautiful\", \"higly textured\", \"pure perfection\", \"Production Cinematic Renderpen and ink\", \"amazing\", \"gorgeous lighting\", \"victor cheleg\", \"molecular\", \"kodak portra 800\", \"editorial illustration of the memento morti\", \"todd nauck\", \"vray tracing\", \"Ominous\", \"simple flowing shapes\", \"detailed painting\", \"minimalist color scheme\", \"8k\", \"subtle shadows\", \"raw photo\", \"is working on a beautiful design project\", \"Intricate Artwork Masterpiece\", \"Liquid Melting\", \"Shadows\", \"creating design projects\", \"Golden Ratio\", \"Ultra High Definition\", \"textures\", \"in the style of art spiegelman\", \"broken glass effect\", \"real photoink\", \"Glimmer\", \"soft focus\", \"travel\", \"moody lighting\", \"flash photography\", \"Ultra realistic photography\", \"masterpiece\", \"Hyperdetailed\", \"featured on pixiv\", \"by artist Agostino Arrivabene and Eileen Agardraw\", \"in unwitting prey\", \"Drawing by Herge\", \"Pen and ink\", \"A fantasy art poster\", \"in the style of colorful Moebius\", \"fringe absurdism\", \"outdoors\", \"art\", \"fujifilm xt3\", \"300mmcolored ink mikhail garmash\", \"featuring multiple soft and rounded fractal\", \"simple\", \"Ultra High Quality\", \"Model\", \"good dynamic range\", \"rays\", \"inspired by zdzis\\u0142aw beksi\\u0144ski3d illustration\", \"aaron jasinski\", \"three-dimensional light\", \"Zeiss Distagon T* 50mm lens.very detailed\", \"by artist Gustav Klimt\", \"steel beams and foldable fibreglass sheets.Award winning halftone pattern illustration\", \"political propaganda\", \"cute\", \"2d game art\", \"diamonds\", \"tectonic\", \"fully body 4k render\", \"attention to detail\", \"ray trace\", \"in the style of liquid metal\", \"ivan aizovsky\", \"made of wireunique\", \"in a cold snowstorm\", \"rough sketchfiction\", \"mythical being\", \"colorful\", \"award winning halftone pattern illustration\", \"desaturated light and airy pastel color palette\", \"divine presence\", \"Ultra Detailed\", \"Artistic\", \"peter blake\", \"red white and black\", \"in the style of Tin-Tin comics\", \"green watercolor.Romantic dark fantasy novel illustration\", \"collage-based\", \"white background\", \"8k uhd\", \"shimmering and luminescent colors\", \"wallpaper\", \"white backgroundin the style of children's fairy tales. Flat style.A Moebius style of drawing\", \"XCD4/45P lens 17mm35mm lens\", \"analytical art\", \"real picture\", \"schlieren photography\", \"Oil Paint\", \"continuity can be seen in the common flow of all lines\", \"iridescent and luminescent scales\", \"something that doesn\\u2019t even exist\", \"vivid colors reflectsshot on leica\", \"Production Cinematic Character Render\", \"subtle pastel hues\", \"unforgettable\", \"shadowplay\", \"elegant\", \"a beautiful workspace\", \"artsy,pen and ink\", \"character\", \"ink art by MSchiffer\", \"nursery art\", \"nikon photography\", \"vector graphic\", \"official artA surreal picture\", \"sharp focus\", \"vibrant colors\", \"mythical creature\", \"cosmic jester\", \"illustrated by herg\\u00e9cute\", \"pretty freckles\", \"behind window\", \"halftone pattern\", \"masterpiece\", \"bloodstone\", \"made of red coral\", \"Dreamy\", \"Unreal Engine 5\", \"group zero\", \"hyperrealistic\", \"Hyperdetailed\"]\n",
    "with open('individual_tokens.json', 'w') as f:\n",
    "    json.dump(L, f)"
   ]
  },
  {
   "cell_type": "code",
   "execution_count": 23,
   "metadata": {},
   "outputs": [
    {
     "data": {
      "text/plain": [
       "['made of wireunique, mahogany, taken on a Medium Format Camera, cosmic jester, tourmaline and gold, cosmic jester, amazing, nikon photography, all lines have the same mass and weight, colorful, unforgettable, beautiful lighting, raw photo, todd nauck, damien hirst',\n",
       " 'official artA surreal picture, todd nauck, collage-based, 8k, peter blake, riso design, textures, vector illustration, Black Ink, energy, award winning halftone pattern illustration, 4K shot on X2D 100C, 2d game art, disintegrated, vector graphic',\n",
       " 'shimmering and luminescent colors, art by Carne Griffiths and Wadim Kashin, detailed, white background, disintegrated, ink art by MSchiffer, wallpaper, in the style of pop art bold graphics, raw character, Continuous line drawings with pastel colors, in the style of colorful Moebius, Brush Strokes, pretty freckles, 8k, Danish Golden Age',\n",
       " 'Golden Ratio, gorgeous lighting, aaron jasinski, riso design, Vibrant, wallpaper, higly textured, mythical being, Liquid Melting, inspired by zdzisław beksiński3d illustration, no background, political propaganda, masterpiece, 4K shot on X2D 100C, white background',\n",
       " 'nyc explosion coverage, white background, real picture, ink art by MSchiffer, vivid colors reflectsshot on leica, pretty freckles, outdoors, Intricate Artwork Masterpiece, shot photography by wes anderson, Glamour, Continuous line drawings with pastel colors, 8k3D photo, mythical creature, dressed as royal and glamorous in gold and white, continuity can be seen in the common flow of all lines',\n",
       " 'gold, cg artwork, art, by Magritte, vray tracing, vivid colors reflectsshot on leica, peter blake, Ominous, art by Carne Griffiths and Wadim Kashin, cosmic jester, raw character, group zero, Brush Strokes, adorable, Coloring book with simple and artistic art',\n",
       " 'broken glass effect, Highly Detailed, rays, Golden Ratio, in the style of liquid metal, Shadows, Fragments, rays, vray tracing, 300mmcolored ink mikhail garmash, riso design, illustrated by hergécute, Model, analytical art, vray tracing',\n",
       " \"dreamy, iridescent and luminescent scales, featured on pixiv, disintegrated, iridescent and luminescent scales, all lines have the same mass and weight, featured on pixiv, white backgroundin the style of children's fairy tales. Flat style.A Moebius style of drawing, behind window, vray tracing, Splatter, Highly Detailed, Fire and Ice, Model, raw photo\",\n",
       " \"subtle shadows, Intricate Artwork Masterpiece, breathtaking beauty, Zeiss Distagon T* 50mm lens.very detailed, stunning, political propaganda, white backgroundin the style of children's fairy tales. Flat style.A Moebius style of drawing, cluttered, illustration, iridescent and luminescent scales, group zero, tectonic, futuristic design, dressed as royal and glamorous in gold and white, kodak portra 800\",\n",
       " 'illustration, in the style of liquid metal, award winning halftone pattern illustration, vector illustration, a beautiful workspace, tourmaline and gold, diamonds, Glimmer, real photoink, Ultra Detailed, conceptual portraiture, collage-based, Zeiss Distagon T* 50mm lens.very detailed, damien hirst, taken on a Medium Format Camera']"
      ]
     },
     "execution_count": 23,
     "metadata": {},
     "output_type": "execute_result"
    }
   ],
   "source": [
    "with open('individual_tokens.json', 'r') as f:\n",
    "    L = json.load(f)\n",
    "add_ons = []\n",
    "for i in range(10):\n",
    "    add_on = \"\"\n",
    "    for j in range(15):\n",
    "        idx = random.choice(range(len(L)))\n",
    "        add_on += L[idx] + ', '\n",
    "    add_ons.append(add_on[:-2])\n",
    "add_ons"
   ]
  },
  {
   "cell_type": "code",
   "execution_count": null,
   "metadata": {},
   "outputs": [],
   "source": []
  }
 ],
 "metadata": {
  "kernelspec": {
   "display_name": "mmll",
   "language": "python",
   "name": "python3"
  },
  "language_info": {
   "codemirror_mode": {
    "name": "ipython",
    "version": 3
   },
   "file_extension": ".py",
   "mimetype": "text/x-python",
   "name": "python",
   "nbconvert_exporter": "python",
   "pygments_lexer": "ipython3",
   "version": "3.11.5"
  }
 },
 "nbformat": 4,
 "nbformat_minor": 2
}
